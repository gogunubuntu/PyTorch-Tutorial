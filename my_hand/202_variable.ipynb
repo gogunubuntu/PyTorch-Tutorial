{
 "cells": [
  {
   "cell_type": "markdown",
   "source": [
    "torch에서 variable은 computational graph를 구성하기위해 존재합니다. 이때 graph는 tensorflow나 theano의 static graph가 아닌 dynamic graph이기 때문에 torch는 placeholder를 가지고 있지 않습니다.  \n",
    "torch는 단지 variable을 computational graph에 통과시키기만 할 뿐입니다. \n"
   ],
   "metadata": {}
  },
  {
   "cell_type": "code",
   "execution_count": 1,
   "source": [
    "import torch\n",
    "from torch.autograd import Variable"
   ],
   "outputs": [],
   "metadata": {}
  },
  {
   "cell_type": "code",
   "execution_count": 2,
   "source": [
    "# build a tensor\n",
    "tensor = torch.FloatTensor(([1, 2], [3, 4]))\n",
    "# build a variable, usually for compute gradients \n",
    "variable = Variable(tensor, requires_grad = True)\n",
    "\n",
    "print(tensor)\n",
    "print(variable)"
   ],
   "outputs": [
    {
     "output_type": "stream",
     "name": "stdout",
     "text": [
      "tensor([[1., 2.],\n",
      "        [3., 4.]])\n",
      "tensor([[1., 2.],\n",
      "        [3., 4.]], requires_grad=True)\n"
     ]
    }
   ],
   "metadata": {}
  },
  {
   "cell_type": "markdown",
   "source": [
    "아직까직은 tensor와 variable이 서로 같아 보입니다. \n",
    "하지만, variable은 graph의 일부분이고, auto-gradient의 일부분 입니다"
   ],
   "metadata": {}
  },
  {
   "cell_type": "code",
   "execution_count": 3,
   "source": [
    "t_out = torch.mean(tensor*tensor) # mean of elementwise product\n",
    "v_out = torch.mean(variable*variable)\n",
    "print(t_out)\n",
    "print(v_out)"
   ],
   "outputs": [
    {
     "output_type": "stream",
     "name": "stdout",
     "text": [
      "tensor(7.5000)\n",
      "tensor(7.5000, grad_fn=<MeanBackward0>)\n"
     ]
    }
   ],
   "metadata": {}
  },
  {
   "cell_type": "code",
   "execution_count": 5,
   "source": [
    "v_out.backward()"
   ],
   "outputs": [],
   "metadata": {}
  },
  {
   "cell_type": "markdown",
   "source": [
    "$$ v_{out} = {{1} \\over {4}} sum(variable^2) $$\n",
    "\n",
    "\n",
    "variable에 대한 gradient :  \n",
    "$$ {d(v_{out}) \\over d(variable)} = {{1} \\over {4}} 2 variable = {variable \\over 2}$$\n",
    "\n",
    "`v_out.backward()`를 통해서 구한 radient값은 아래처럼 `variable.grad`를 통해서 볼 수 있습니다"
   ],
   "metadata": {}
  },
  {
   "cell_type": "code",
   "execution_count": 8,
   "source": [
    "variable.grad"
   ],
   "outputs": [
    {
     "output_type": "execute_result",
     "data": {
      "text/plain": [
       "tensor([[0.5000, 1.0000],\n",
       "        [1.5000, 2.0000]])"
      ]
     },
     "metadata": {},
     "execution_count": 8
    }
   ],
   "metadata": {}
  },
  {
   "cell_type": "markdown",
   "source": [
    "variable은 필요에 따라 `variable`, `tensor`, `numpy`로 변환한 값을 볼 수 있습니다"
   ],
   "metadata": {}
  },
  {
   "cell_type": "code",
   "execution_count": 13,
   "source": [
    "print(f\"##variable format## \\n{variable}\")\n",
    "print(f\"##tenwor format## \\n{variable.data}\")\n",
    "print(f\"##numpy format## \\n{variable.data.numpy()}\")"
   ],
   "outputs": [
    {
     "output_type": "stream",
     "name": "stdout",
     "text": [
      "##variable format## \n",
      "tensor([[1., 2.],\n",
      "        [3., 4.]], requires_grad=True)\n",
      "##tenwor format## \n",
      "tensor([[1., 2.],\n",
      "        [3., 4.]])\n",
      "##numpy format## \n",
      "[[1. 2.]\n",
      " [3. 4.]]\n"
     ]
    }
   ],
   "metadata": {}
  },
  {
   "cell_type": "markdown",
   "source": [
    "v_out.backward()를 수행했지만, variable이 새로운 grad값을 받은 것을 주목하세요.\n",
    "\n",
    "즉,  \n",
    "`v_out = torch.mean(variable*variable)`\n",
    "와 같은 코드는  \n",
    "\n",
    "새로운 변수 `v_out`을 만들어내고, 이를 `variable`과 computational graph로 연결 해 줍니다\n"
   ],
   "metadata": {}
  }
 ],
 "metadata": {
  "orig_nbformat": 4,
  "language_info": {
   "name": "python",
   "version": "3.6.13",
   "mimetype": "text/x-python",
   "codemirror_mode": {
    "name": "ipython",
    "version": 3
   },
   "pygments_lexer": "ipython3",
   "nbconvert_exporter": "python",
   "file_extension": ".py"
  },
  "kernelspec": {
   "name": "python3",
   "display_name": "Python 3.6.13 64-bit ('drlnd': conda)"
  },
  "interpreter": {
   "hash": "806277ad10f6288e45e02d3e2184572cc98513f4b7f6535fc8981299374e19b2"
  }
 },
 "nbformat": 4,
 "nbformat_minor": 2
}