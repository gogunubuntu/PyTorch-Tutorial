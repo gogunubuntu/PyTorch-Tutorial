{
 "cells": [
  {
   "cell_type": "code",
   "execution_count": 1,
   "source": [
    "import torch\n",
    "import torch.utils.data as Data"
   ],
   "outputs": [],
   "metadata": {}
  },
  {
   "cell_type": "code",
   "execution_count": 2,
   "source": [
    "BATCH_SIZE = 5"
   ],
   "outputs": [],
   "metadata": {}
  },
  {
   "cell_type": "code",
   "execution_count": 9,
   "source": [
    "x = torch.linspace(1, 10, 10)\n",
    "y = torch.linspace(10, 100, 10)"
   ],
   "outputs": [],
   "metadata": {}
  },
  {
   "cell_type": "code",
   "execution_count": 10,
   "source": [
    "torch_dataset = Data.TensorDataset(x, y)\n",
    "loader = Data.DataLoader(\n",
    "    dataset=torch_dataset, \n",
    "    batch_size=BATCH_SIZE,\n",
    "    shuffle=True, \n",
    "    num_workers=2\n",
    ")"
   ],
   "outputs": [],
   "metadata": {}
  },
  {
   "cell_type": "code",
   "execution_count": 11,
   "source": [
    "\n",
    "for epoch in range(3) :\n",
    "    for step, (batch_x, batch_y) in enumerate(loader) : \n",
    "        print(f\"epoch : {epoch} \\nstep : {step} \\nbatch x : {batch_x.numpy()}, \\nbatch_y : {batch_y.numpy()}\")"
   ],
   "outputs": [
    {
     "output_type": "stream",
     "name": "stdout",
     "text": [
      "epoch : 0 \n",
      "step : 0 \n",
      "batch x : [9. 5. 6. 2. 1.], \n",
      "batch_y : [90. 50. 60. 20. 10.]\n",
      "epoch : 0 \n",
      "step : 1 \n",
      "batch x : [ 7.  4. 10.  3.  8.], \n",
      "batch_y : [ 70.  40. 100.  30.  80.]\n",
      "epoch : 1 \n",
      "step : 0 \n",
      "batch x : [ 2.  3.  6.  1. 10.], \n",
      "batch_y : [ 20.  30.  60.  10. 100.]\n",
      "epoch : 1 \n",
      "step : 1 \n",
      "batch x : [9. 5. 8. 4. 7.], \n",
      "batch_y : [90. 50. 80. 40. 70.]\n",
      "epoch : 2 \n",
      "step : 0 \n",
      "batch x : [9. 5. 4. 7. 3.], \n",
      "batch_y : [90. 50. 40. 70. 30.]\n",
      "epoch : 2 \n",
      "step : 1 \n",
      "batch x : [ 6. 10.  8.  1.  2.], \n",
      "batch_y : [ 60. 100.  80.  10.  20.]\n"
     ]
    }
   ],
   "metadata": {}
  },
  {
   "cell_type": "code",
   "execution_count": null,
   "source": [],
   "outputs": [],
   "metadata": {}
  }
 ],
 "metadata": {
  "orig_nbformat": 4,
  "language_info": {
   "name": "python",
   "version": "3.6.13",
   "mimetype": "text/x-python",
   "codemirror_mode": {
    "name": "ipython",
    "version": 3
   },
   "pygments_lexer": "ipython3",
   "nbconvert_exporter": "python",
   "file_extension": ".py"
  },
  "kernelspec": {
   "name": "python3",
   "display_name": "Python 3.6.13 64-bit ('drlnd': conda)"
  },
  "interpreter": {
   "hash": "806277ad10f6288e45e02d3e2184572cc98513f4b7f6535fc8981299374e19b2"
  }
 },
 "nbformat": 4,
 "nbformat_minor": 2
}